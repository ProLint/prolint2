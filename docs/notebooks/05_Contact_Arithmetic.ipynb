{
 "cells": [
  {
   "attachments": {},
   "cell_type": "markdown",
   "metadata": {},
   "source": [
    "# Building Complex Contact Schema"
   ]
  },
  {
   "attachments": {},
   "cell_type": "markdown",
   "metadata": {},
   "source": [
    "One of the cool things of the new desing of ProLint is that you can build very complex contact representations. Similar to building blocks. We showcase a few examples here which we think are useful and interesting."
   ]
  },
  {
   "cell_type": "code",
   "execution_count": 14,
   "metadata": {},
   "outputs": [],
   "source": [
    "from prolint2 import Universe"
   ]
  },
  {
   "cell_type": "code",
   "execution_count": 15,
   "metadata": {},
   "outputs": [],
   "source": [
    "u = Universe('coordinates.gro', 'trajectory.xtc')\n",
    "u.normalize_by = 'total_time' # We will use true time normalization, though any of the available options will work just as well"
   ]
  },
  {
   "cell_type": "code",
   "execution_count": 16,
   "metadata": {},
   "outputs": [],
   "source": [
    "### Compute contacts at 3 different cutoffs"
   ]
  },
  {
   "cell_type": "code",
   "execution_count": 17,
   "metadata": {},
   "outputs": [
    {
     "name": "stderr",
     "output_type": "stream",
     "text": [
      "100%|██████████| 179/179 [00:00<00:00, 235.24it/s]\n",
      "100%|██████████| 179/179 [00:00<00:00, 196.02it/s]\n",
      "100%|██████████| 179/179 [00:01<00:00, 159.71it/s]\n"
     ]
    }
   ],
   "source": [
    "c1 = u.compute_contacts(cutoff=6)\n",
    "c2 = u.compute_contacts(cutoff=7)\n",
    "c3 = u.compute_contacts(cutoff=8)"
   ]
  },
  {
   "cell_type": "markdown",
   "metadata": {},
   "source": [
    "### Multiple Cutoffs"
   ]
  },
  {
   "attachments": {},
   "cell_type": "markdown",
   "metadata": {},
   "source": [
    "If you would like to use a `Double cutoff` as a damping layer, which will allow you to measure contact durations more accurately, then this can be very easily done with a very intuitive syntax:"
   ]
  },
  {
   "cell_type": "code",
   "execution_count": 19,
   "metadata": {},
   "outputs": [],
   "source": [
    "c3 = c1.intersection(c2)"
   ]
  },
  {
   "cell_type": "code",
   "execution_count": 24,
   "metadata": {},
   "outputs": [
    {
     "name": "stdout",
     "output_type": "stream",
     "text": [
      "[0.168, 0.14, 0.14, 0.14, 0.112, 0.084, 0.084, 0.084, 0.084, 0.084, 0.084, 0.056, 0.056, 0.056, 0.056, 0.056, 0.056, 0.056, 0.056, 0.056, 0.028, 0.028, 0.028, 0.028, 0.028, 0.028, 0.028, 0.028, 0.028, 0.028, 0.028, 0.028, 0.028, 0.028, 0.028, 0.028, 0.028, 0.028, 0.028, 0.028, 0.028, 0.028]\n"
     ]
    }
   ],
   "source": [
    "# Let's again loog at residue 401 with CHOL\n",
    "r401_chol = sorted(c3.contacts[401]['CHOL'], reverse=True)\n",
    "print([round(x, 3) for x in r401_chol])"
   ]
  },
  {
   "cell_type": "markdown",
   "metadata": {},
   "source": [
    "### Why this works"
   ]
  },
  {
   "attachments": {},
   "cell_type": "markdown",
   "metadata": {},
   "source": [
    "Above we are computing the intersection between `c1` and `c2`, and that is all there is to it. The reasoning behind this is quite simple. Cutoffs are radial, which in our case, has the physical interpretation of $c1 \\subseteq c2$, That is, the contacts with the smaller cutoff are a subset of the contacts with the larger cutoff. This is a very intuitive way of thinking about it, and it allows us to build very complex contact representations with ease, by noting the following: "
   ]
  },
  {
   "cell_type": "markdown",
   "metadata": {},
   "source": [
    "If `c1` and `c2` are sets of numbers, and `c1` is a subset of `c2` (i.e., $c1 \\subseteq c2$), this relationship can be reflected in the following common set operations:\n",
    "\n",
    "1. Union ($c1 \\cup c2$): Since $c1$ is a subset of $c2$, the union of $c1$ and $c2$ will be equal to $c2$. This is because all elements of $c1$ are already present in $c2$, so the union will not add any new elements to the resulting set.\n",
    "\n",
    "2. Intersection ($c1 \\cap c2$): The intersection of $c1$ and $c2$ will be equal to $c1$. This is because all elements of $c1$ are present in $c2$, so the intersection will include all elements of $c1$.\n",
    "\n",
    "3. Difference ($c2 - c1$): The difference of $c2$ and $c1$ will be the set of elements that are present in $c2$ but not in $c1$. Since $c1$ is a subset of $c2$, the difference will include all the elements unique to $c2$.\n",
    "\n",
    "4. Difference ($c1 - c2$): The difference of $c1$ and $c2$ will be the empty set ($\\emptyset$), since all elements of $c1$ are present in $c2$. There are no elements unique to $c1$ that are not in $c2$.\n",
    "\n",
    "5. Symmetric Difference ($c1 \\bigtriangleup c2$): The symmetric difference of $c1$ and $c2$ will also be equal to the difference ($c2 - c1$). This is because symmetric difference includes elements that are unique to one of the sets, and since $c1$ is a subset of $c2$, all unique elements are in $c2$ but not in $c1$.\n",
    "\n",
    "In summary, for sets $c1$ and $c2$ where $c1 \\subseteq c2$:\n",
    "\n",
    "- $c1 \\cup c2 = c2$\n",
    "- $c1 \\cap c2 = c1$\n",
    "- $c2 - c1 = \\text{elements unique to } c2$\n",
    "- $c1 - c2 = \\emptyset$\n",
    "- $c1 \\bigtriangleup c2 = c2 - c1$\n"
   ]
  },
  {
   "attachments": {},
   "cell_type": "markdown",
   "metadata": {},
   "source": [
    "In practice this results in a trivially easy way to construct complex contact schemas: "
   ]
  },
  {
   "cell_type": "code",
   "execution_count": null,
   "metadata": {},
   "outputs": [],
   "source": [
    "# Compute more contacts at different cutoffs\n",
    "c3 = u.compute_contacts(cutoff=8)\n",
    "c4 = u.compute_contacts(cutoff=9)\n",
    "c5 = u.compute_contacts(cutoff=10)"
   ]
  },
  {
   "cell_type": "code",
   "execution_count": null,
   "metadata": {},
   "outputs": [],
   "source": [
    "_ = c1 + c2                 # Double cutoff \n",
    "_ = c1 + c2 + c3            # Triple cutoff\n",
    "_ = c1 + c2 + c3 + c4       # Quadruple cutoff\n",
    "_ = c1 + c2 + c3 + c4 + c5  # Quintuple cutoff"
   ]
  },
  {
   "attachments": {},
   "cell_type": "markdown",
   "metadata": {},
   "source": [
    "This way you can, for example, look at how contacts with different lipids fall of as a function of the cutoff"
   ]
  },
  {
   "attachments": {},
   "cell_type": "markdown",
   "metadata": {},
   "source": [
    "### Annular Shell Contact"
   ]
  },
  {
   "attachments": {},
   "cell_type": "markdown",
   "metadata": {},
   "source": [
    "We can also go in the other direction, and construct a donut shape contact schema, where we have a core of contacts with a smaller cutoff, and a shell of contacts with a larger cutoff, and we substract/remove the core from the shell:"
   ]
  },
  {
   "cell_type": "code",
   "execution_count": 25,
   "metadata": {},
   "outputs": [
    {
     "data": {
      "text/plain": [
       "<prolint2.core.contact_provider.ComputedContacts at 0x7fed79d6e880>"
      ]
     },
     "execution_count": 25,
     "metadata": {},
     "output_type": "execute_result"
    }
   ],
   "source": [
    "c2 - c1 # or c2.difference(c1)"
   ]
  },
  {
   "attachments": {},
   "cell_type": "markdown",
   "metadata": {},
   "source": [
    "Such an analysis can be very useful when studying lipid-protein interactions where the concept of annular lipids is very important. With the logic and syntax developed here, we can very easily construct a contact schema that will allow us to study the annular lipids as a function of the cutoff."
   ]
  },
  {
   "cell_type": "code",
   "execution_count": null,
   "metadata": {},
   "outputs": [],
   "source": [
    "first_shell  = c2 - c1 # or c2.difference(c1)\n",
    "second_shell = c3 - c2 # or c3.difference(c2)\n",
    "third_shell  = c4 - c3 # or c4.difference(c3)\n",
    "fourth_shell = c5 - c4 # or c5.difference(c4)"
   ]
  }
 ],
 "metadata": {
  "kernelspec": {
   "display_name": "ufcc-dev",
   "language": "python",
   "name": "python3"
  },
  "language_info": {
   "codemirror_mode": {
    "name": "ipython",
    "version": 3
   },
   "file_extension": ".py",
   "mimetype": "text/x-python",
   "name": "python",
   "nbconvert_exporter": "python",
   "pygments_lexer": "ipython3",
   "version": "3.8.13"
  },
  "orig_nbformat": 4
 },
 "nbformat": 4,
 "nbformat_minor": 2
}
