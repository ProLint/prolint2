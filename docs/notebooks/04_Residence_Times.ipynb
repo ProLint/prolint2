{
 "cells": [
  {
   "cell_type": "markdown",
   "metadata": {},
   "source": [
    "# Modular Implementation of Residence Time Calculations"
   ]
  },
  {
   "attachments": {},
   "cell_type": "markdown",
   "metadata": {},
   "source": [
    "ProLint currently supports an early version of residence time calculation. This notebook shows how you can compute residence time. "
   ]
  },
  {
   "cell_type": "code",
   "execution_count": 2,
   "metadata": {},
   "outputs": [],
   "source": [
    "from prolint2 import Universe\n",
    "from prolint2.metrics.restime import KoffCalculator"
   ]
  },
  {
   "cell_type": "code",
   "execution_count": 8,
   "metadata": {},
   "outputs": [
    {
     "name": "stderr",
     "output_type": "stream",
     "text": [
      "100%|██████████| 179/179 [00:00<00:00, 220.54it/s]\n"
     ]
    }
   ],
   "source": [
    "u = Universe('coordinates.gro', 'trajectory.xtc')\n",
    "u.normalize_by = 'total_time' # We need to use the true time for the normalization\n",
    "c = u.compute_contacts(cutoff=7)"
   ]
  },
  {
   "cell_type": "code",
   "execution_count": 10,
   "metadata": {},
   "outputs": [
    {
     "name": "stdout",
     "output_type": "stream",
     "text": [
      "4.984 0.028\n"
     ]
    }
   ],
   "source": [
    "# Next we need to define the parameters for the calculation\n",
    "totaltime = u.trajectory.totaltime * u.params['unit_conversion_factor']\n",
    "timestep = round(u.trajectory.dt * u.params['unit_conversion_factor'], 4)\n",
    "print (totaltime, timestep)"
   ]
  },
  {
   "attachments": {},
   "cell_type": "markdown",
   "metadata": {},
   "source": [
    "`Residence Time` for residue 401 with cholesterol is computed as follows:"
   ]
  },
  {
   "cell_type": "code",
   "execution_count": 12,
   "metadata": {},
   "outputs": [],
   "source": [
    "# Get the data for residue 401 with CHOL\n",
    "data = c.contacts[401]['CHOL']"
   ]
  },
  {
   "cell_type": "code",
   "execution_count": 13,
   "metadata": {},
   "outputs": [
    {
     "name": "stdout",
     "output_type": "stream",
     "text": [
      "12.502379330265788 0.07998477518428815\n"
     ]
    }
   ],
   "source": [
    "r401_chol = KoffCalculator(data, totaltime, timestep, fitting_func_name='bi_expo')\n",
    "print (r401_chol.koff, r401_chol.res_time)"
   ]
  },
  {
   "cell_type": "code",
   "execution_count": null,
   "metadata": {},
   "outputs": [],
   "source": []
  }
 ],
 "metadata": {
  "kernelspec": {
   "display_name": "ufcc-dev",
   "language": "python",
   "name": "python3"
  },
  "language_info": {
   "codemirror_mode": {
    "name": "ipython",
    "version": 3
   },
   "file_extension": ".py",
   "mimetype": "text/x-python",
   "name": "python",
   "nbconvert_exporter": "python",
   "pygments_lexer": "ipython3",
   "version": "3.8.13"
  },
  "orig_nbformat": 4
 },
 "nbformat": 4,
 "nbformat_minor": 2
}
