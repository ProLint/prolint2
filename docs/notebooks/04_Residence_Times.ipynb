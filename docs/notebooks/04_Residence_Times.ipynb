{
 "cells": [
  {
   "cell_type": "markdown",
   "metadata": {},
   "source": [
    "# Modular Implementation of Residence Time Calculations"
   ]
  },
  {
   "attachments": {},
   "cell_type": "markdown",
   "metadata": {},
   "source": [
    "ProLint currently supports an early version of residence time calculation. This notebook shows how you can compute residence time. "
   ]
  },
  {
   "cell_type": "code",
   "execution_count": 1,
   "metadata": {},
   "outputs": [
    {
     "name": "stderr",
     "output_type": "stream",
     "text": [
      "/Users/danielramirez/mambaforge/envs/prolint2/lib/python3.8/site-packages/tqdm/auto.py:21: TqdmWarning: IProgress not found. Please update jupyter and ipywidgets. See https://ipywidgets.readthedocs.io/en/stable/user_install.html\n",
      "  from .autonotebook import tqdm as notebook_tqdm\n"
     ]
    }
   ],
   "source": [
    "from prolint2.core import Universe\n",
    "from prolint2.metrics.restime import KoffCalculator\n",
    "from prolint2.sampledata import GIRK"
   ]
  },
  {
   "cell_type": "code",
   "execution_count": 2,
   "metadata": {},
   "outputs": [
    {
     "name": "stderr",
     "output_type": "stream",
     "text": [
      "100%|██████████| 13/13 [00:00<00:00, 108.92it/s]\n"
     ]
    }
   ],
   "source": [
    "u = Universe(GIRK.coordinates, GIRK.trajectory)\n",
    "u.normalize_by = 'actual_time' # We need to use the true time for the normalization\n",
    "c = u.compute_contacts(cutoff=7)"
   ]
  },
  {
   "cell_type": "code",
   "execution_count": 3,
   "metadata": {},
   "outputs": [
    {
     "name": "stdout",
     "output_type": "stream",
     "text": [
      "4.8 0.4\n"
     ]
    }
   ],
   "source": [
    "# Next we need to define the parameters for the calculation\n",
    "totaltime = u.trajectory.totaltime * u.params['unit_conversion_factor']\n",
    "timestep = round(u.trajectory.dt * u.params['unit_conversion_factor'], 4)\n",
    "print (totaltime, timestep)"
   ]
  },
  {
   "attachments": {},
   "cell_type": "markdown",
   "metadata": {},
   "source": [
    "`Residence Time` for residue 401 with cholesterol is computed as follows:"
   ]
  },
  {
   "cell_type": "code",
   "execution_count": 4,
   "metadata": {},
   "outputs": [],
   "source": [
    "# Get the data for residue 401 with CHOL\n",
    "data = c.contacts[401]['CHOL']"
   ]
  },
  {
   "cell_type": "code",
   "execution_count": 5,
   "metadata": {},
   "outputs": [
    {
     "name": "stdout",
     "output_type": "stream",
     "text": [
      "2.5895888515222234 0.3861616871775516\n"
     ]
    }
   ],
   "source": [
    "r401_chol = KoffCalculator(data, totaltime, timestep, fitting_func_name='bi_expo')\n",
    "print (r401_chol.koff, r401_chol.res_time)"
   ]
  },
  {
   "cell_type": "code",
   "execution_count": null,
   "metadata": {},
   "outputs": [],
   "source": []
  }
 ],
 "metadata": {
  "kernelspec": {
   "display_name": "ufcc-dev",
   "language": "python",
   "name": "python3"
  },
  "language_info": {
   "codemirror_mode": {
    "name": "ipython",
    "version": 3
   },
   "file_extension": ".py",
   "mimetype": "text/x-python",
   "name": "python",
   "nbconvert_exporter": "python",
   "pygments_lexer": "ipython3",
   "version": "3.8.16"
  },
  "orig_nbformat": 4
 },
 "nbformat": 4,
 "nbformat_minor": 2
}
