{
 "cells": [
  {
   "cell_type": "markdown",
   "metadata": {},
   "source": [
    "# Working with the ProLint `Universe` object"
   ]
  },
  {
   "cell_type": "code",
   "execution_count": 11,
   "metadata": {},
   "outputs": [],
   "source": [
    "from prolint2 import Universe\n",
    "from MDAnalysis import Universe as MDUniverse\n",
    "from prolint2.sampledata import GIRK"
   ]
  },
  {
   "attachments": {},
   "cell_type": "markdown",
   "metadata": {},
   "source": [
    "ProLint can read data directly from another `Universe` object. If you already have a pipeline that uses MDAnalysis to read the data, you can easily switch to ProLint by replacing the `Universe` object with a `ProLint.Universe` object or by directly reading the data from the MDAnalysis."
   ]
  },
  {
   "attachments": {},
   "cell_type": "markdown",
   "metadata": {},
   "source": [
    "Below we create an MDAnalysis `Universe` instance and define a custom `query` and `database`."
   ]
  },
  {
   "cell_type": "code",
   "execution_count": 12,
   "metadata": {},
   "outputs": [],
   "source": [
    "# Use MDAnalysis to create a Universe instance\n",
    "mda_u = MDUniverse(GIRK.coordinates, GIRK.trajectory)\n",
    "mda_u_query = mda_u.select_atoms('protein and name BB')\n",
    "mda_u_db = mda_u.select_atoms('resname POPE')"
   ]
  },
  {
   "cell_type": "markdown",
   "metadata": {},
   "source": [
    "We can now use the MDAnalysis Universe instance to create a ProLint Universe instance:"
   ]
  },
  {
   "cell_type": "code",
   "execution_count": 13,
   "metadata": {},
   "outputs": [],
   "source": [
    "# Use `mda_u` to create a ProLint Universe instance\n",
    "u = Universe(universe=mda_u)"
   ]
  },
  {
   "attachments": {},
   "cell_type": "markdown",
   "metadata": {},
   "source": [
    "We can also directly use the `query` and `database` information to create a ProLint Universe instance:"
   ]
  },
  {
   "cell_type": "code",
   "execution_count": 14,
   "metadata": {},
   "outputs": [],
   "source": [
    "# u = Universe(universe=mda_u, query=mda_u_query, db=mda_u_db)"
   ]
  },
  {
   "attachments": {},
   "cell_type": "markdown",
   "metadata": {},
   "source": [
    "### Accessing the query and database AtomGroups"
   ]
  },
  {
   "cell_type": "code",
   "execution_count": 15,
   "metadata": {},
   "outputs": [
    {
     "data": {
      "text/plain": [
       "(<ProLint Wrapper for <AtomGroup with 2956 atoms>>,\n",
       " <ProLint Wrapper for <AtomGroup with 20864 atoms>>)"
      ]
     },
     "execution_count": 15,
     "metadata": {},
     "output_type": "execute_result"
    }
   ],
   "source": [
    "u.query, u.database"
   ]
  },
  {
   "attachments": {},
   "cell_type": "markdown",
   "metadata": {},
   "source": [
    "Notice how both the `query` and `database` AtomGroups are ProLint wrappers around the MDAnalysis AtomGroups. This means that you get to keep all the functionality of MDAnalysis AtomGroups, but you can also use the ProLint-specific functions, such as making changes to the `query` and `database` AtomGroups or accessing ProLint-specific attributes."
   ]
  },
  {
   "cell_type": "code",
   "execution_count": 16,
   "metadata": {},
   "outputs": [
    {
     "data": {
      "text/plain": [
       "(array(['CHOL', 'POPE', 'POPS'], dtype=object),\n",
       " ['POPE', 'POPE', 'CHOL'],\n",
       " array([3050]))"
      ]
     },
     "execution_count": 16,
     "metadata": {},
     "output_type": "execute_result"
    }
   ],
   "source": [
    "u.database.unique_resnames, u.database.get_resnames([2345, 2346, 3050]), u.database.filter_resids_by_resname([2345, 2346, 3050], 'CHOL')"
   ]
  },
  {
   "cell_type": "code",
   "execution_count": 17,
   "metadata": {},
   "outputs": [
    {
     "data": {
      "text/plain": [
       "{1: 'ARG', 2: 'GLN', 3: 'ARG', 4: 'TYR', 5: 'MET'}"
      ]
     },
     "execution_count": 17,
     "metadata": {},
     "output_type": "execute_result"
    }
   ],
   "source": [
    "u.query.get_resnames([1, 2, 3, 4, 5], out=dict)"
   ]
  },
  {
   "cell_type": "markdown",
   "metadata": {},
   "source": [
    "### Modifying the query and database AtomGroups"
   ]
  },
  {
   "attachments": {},
   "cell_type": "markdown",
   "metadata": {},
   "source": [
    "#### `Remove` from ProLint AtomGroup"
   ]
  },
  {
   "cell_type": "code",
   "execution_count": 18,
   "metadata": {},
   "outputs": [
    {
     "data": {
      "text/plain": [
       "(2956, 2764)"
      ]
     },
     "execution_count": 18,
     "metadata": {},
     "output_type": "execute_result"
    }
   ],
   "source": [
    "# Remove all residues with resname 'ARG' from the query\n",
    "s = u.query.remove(resname='ARG')\n",
    "u.query.n_atoms, s.n_atoms"
   ]
  },
  {
   "cell_type": "code",
   "execution_count": 19,
   "metadata": {},
   "outputs": [
    {
     "data": {
      "text/plain": [
       "(2956, 2532)"
      ]
     },
     "execution_count": 19,
     "metadata": {},
     "output_type": "execute_result"
    }
   ],
   "source": [
    "# Remove all residues with resname 'ARG' and all residue numbers lower than 100\n",
    "s = u.query.remove(resname='ARG', resnum=[*range(100)])\n",
    "u.query.n_atoms, s.n_atoms"
   ]
  },
  {
   "cell_type": "code",
   "execution_count": 20,
   "metadata": {},
   "outputs": [
    {
     "data": {
      "text/plain": [
       "(2956, 1543)"
      ]
     },
     "execution_count": 20,
     "metadata": {},
     "output_type": "execute_result"
    }
   ],
   "source": [
    "# More complicated example: \n",
    "# Remove all residues with resname 'ARG' and the residue number 1, and all atoms with the name 'BB' and the atomids 1-9\n",
    "s = u.query.remove(resname='ARG', resnum=[1], atomname=['BB'], atomids=[1, 2, 3, 4, 5, 6, 7, 8, 9])\n",
    "u.query.n_atoms, s.n_atoms"
   ]
  },
  {
   "attachments": {},
   "cell_type": "markdown",
   "metadata": {},
   "source": [
    "`Important`: \n",
    "1. `remove` combines all input arguments into a single selection string concatenated with `or` statements.\n",
    "2. The above code returns a new ProLint AtomGroup, but does not modify the original AtomGroup. To modify the original AtomGroup, you need to use assignment. See below."
   ]
  },
  {
   "cell_type": "code",
   "execution_count": 21,
   "metadata": {},
   "outputs": [
    {
     "data": {
      "text/plain": [
       "2764"
      ]
     },
     "execution_count": 21,
     "metadata": {},
     "output_type": "execute_result"
    }
   ],
   "source": [
    "u.query = u.query.remove(resname='ARG')\n",
    "u.query.n_atoms"
   ]
  },
  {
   "cell_type": "code",
   "execution_count": 22,
   "metadata": {},
   "outputs": [
    {
     "name": "stderr",
     "output_type": "stream",
     "text": [
      "100%|██████████| 13/13 [00:00<00:00, 307.78it/s]"
     ]
    },
    {
     "name": "stderr",
     "output_type": "stream",
     "text": [
      "\n"
     ]
    }
   ],
   "source": [
    "# Let's compute the contacts between the modified query and the database\n",
    "c = u.compute_contacts(cutoff=7)"
   ]
  },
  {
   "cell_type": "code",
   "execution_count": 23,
   "metadata": {},
   "outputs": [
    {
     "data": {
      "text/plain": [
       "419"
      ]
     },
     "execution_count": 23,
     "metadata": {},
     "output_type": "execute_result"
    }
   ],
   "source": [
    "# Number of residues we have computed contacts for\n",
    "len(c.contact_frames.keys())"
   ]
  },
  {
   "attachments": {},
   "cell_type": "markdown",
   "metadata": {},
   "source": [
    "#### `Add` to ProLint AtomGroup"
   ]
  },
  {
   "cell_type": "code",
   "execution_count": 24,
   "metadata": {},
   "outputs": [
    {
     "data": {
      "text/plain": [
       "2956"
      ]
     },
     "execution_count": 24,
     "metadata": {},
     "output_type": "execute_result"
    }
   ],
   "source": [
    "# Let's add back the residues we removed from the query\n",
    "u.query = u.query.add(resname='ARG')\n",
    "u.query.n_atoms"
   ]
  },
  {
   "cell_type": "code",
   "execution_count": 25,
   "metadata": {},
   "outputs": [
    {
     "name": "stderr",
     "output_type": "stream",
     "text": [
      "100%|██████████| 13/13 [00:00<00:00, 375.47it/s]\n"
     ]
    }
   ],
   "source": [
    "# Let's compute the contacts between the query and the database\n",
    "c = u.compute_contacts(cutoff=7)"
   ]
  },
  {
   "cell_type": "code",
   "execution_count": 26,
   "metadata": {},
   "outputs": [
    {
     "data": {
      "text/plain": [
       "442"
      ]
     },
     "execution_count": 26,
     "metadata": {},
     "output_type": "execute_result"
    }
   ],
   "source": [
    "# Number of residues we have computed contacts for\n",
    "len(c.contact_frames.keys())"
   ]
  },
  {
   "cell_type": "code",
   "execution_count": null,
   "metadata": {},
   "outputs": [],
   "source": []
  }
 ],
 "metadata": {
  "kernelspec": {
   "display_name": "ufcc-dev",
   "language": "python",
   "name": "python3"
  },
  "language_info": {
   "codemirror_mode": {
    "name": "ipython",
    "version": 3
   },
   "file_extension": ".py",
   "mimetype": "text/x-python",
   "name": "python",
   "nbconvert_exporter": "python",
   "pygments_lexer": "ipython3",
   "version": "3.8.16"
  },
  "orig_nbformat": 4
 },
 "nbformat": 4,
 "nbformat_minor": 2
}
