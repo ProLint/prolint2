{
 "cells": [
  {
   "attachments": {},
   "cell_type": "markdown",
   "metadata": {},
   "source": [
    "# Welcome to ProLint2"
   ]
  },
  {
   "attachments": {},
   "cell_type": "markdown",
   "metadata": {},
   "source": [
    "ProLint2 is a tool for the analysis of protein-lipid interactions. It has been completely rewritten and now includes many new features: \n",
    "\n",
    "1. Orders of magnitude faster than the original ProLint\n",
    "2. Modular design for easy extension\n",
    "3. Completely new visualization front end\n",
    "4. Many other new features"
   ]
  },
  {
   "cell_type": "markdown",
   "metadata": {},
   "source": [
    "### How to install the package"
   ]
  },
  {
   "attachments": {},
   "cell_type": "markdown",
   "metadata": {},
   "source": [
    "Please read the [README](https://github.com/ProLint/prolint2/blob/main/README.md) file for instructions on how to install ProLint2."
   ]
  },
  {
   "cell_type": "markdown",
   "metadata": {},
   "source": [
    "### How to get started"
   ]
  },
  {
   "cell_type": "code",
   "execution_count": 1,
   "metadata": {},
   "outputs": [
    {
     "name": "stderr",
     "output_type": "stream",
     "text": [
      "/Users/danielramirez/mambaforge/envs/prolint2/lib/python3.8/site-packages/tqdm/auto.py:21: TqdmWarning: IProgress not found. Please update jupyter and ipywidgets. See https://ipywidgets.readthedocs.io/en/stable/user_install.html\n",
      "  from .autonotebook import tqdm as notebook_tqdm\n"
     ]
    }
   ],
   "source": [
    "from prolint2.core import Universe"
   ]
  },
  {
   "attachments": {},
   "cell_type": "markdown",
   "metadata": {},
   "source": [
    "ProLint now is built on top of MDAnalysis. We provide a wrapper class around MDAnalysis.Universe that allows you to load file and perform analysis the same way as you would with MDAnalysis. The Prolint Universe object, however, has additional methods that allow you to perform analysis on protein-lipid interactions. \n",
    "\n",
    "```python\n",
    "from prolint2 import Universe\n",
    "u = Universe('coordinates.gro', 'trajectory.xtc')\n",
    "```\n",
    "\n",
    "And that's it! You can now use the `u` object to perform analysis. This is exactly the same as you would with MDAnalysis. For example, to get the center of mass of the protein, you can do:\n",
    "\n",
    "```python\n",
    "u.select_atoms('protein').center_of_mass()\n",
    "```\n",
    "\n",
    "Of course, the reason to use ProLint is to analyze protein-lipid interactions. So let's see how we can do that. "
   ]
  },
  {
   "cell_type": "code",
   "execution_count": 2,
   "metadata": {},
   "outputs": [],
   "source": [
    "from prolint2.sampledata import GIRK\n",
    "u = Universe(GIRK.coordinates, GIRK.trajectory)"
   ]
  },
  {
   "cell_type": "code",
   "execution_count": 3,
   "metadata": {},
   "outputs": [
    {
     "name": "stdout",
     "output_type": "stream",
     "text": [
      "Number of frames: 13, number of atoms: 23820\n"
     ]
    }
   ],
   "source": [
    "n_frames = u.trajectory.n_frames\n",
    "n_atoms = u.atoms.n_atoms\n",
    "\n",
    "print (f'Number of frames: {n_frames}, number of atoms: {n_atoms}')"
   ]
  },
  {
   "attachments": {},
   "cell_type": "markdown",
   "metadata": {},
   "source": [
    "### The `query` and `database` terminology\n",
    "\n",
    "ProLint computes contacts between a reference group of atoms (usually the protein) that we call the `query`, and another group of atoms (usually the lipids) that we call the `database`. The query group is the group of atoms/residues that you want to analyze. The database group is the group of atoms that you want to analyze their interactions with. For example, if you want to analyze the interactions between a protein and surrounding lipids, the protein is the query and the lipids are the database group. \n",
    "\n",
    "When you create a `Universe` object ProLint will use proteins as the query and all other atoms as the database. You can access them by their attributes:"
   ]
  },
  {
   "cell_type": "code",
   "execution_count": 4,
   "metadata": {},
   "outputs": [
    {
     "data": {
      "text/plain": [
       "(<ProLint Wrapper for <AtomGroup with 2956 atoms>>,\n",
       " <ProLint Wrapper for <AtomGroup with 20864 atoms>>)"
      ]
     },
     "execution_count": 4,
     "metadata": {},
     "output_type": "execute_result"
    }
   ],
   "source": [
    "u.query, u.database"
   ]
  },
  {
   "cell_type": "code",
   "execution_count": 5,
   "metadata": {},
   "outputs": [
    {
     "name": "stdout",
     "output_type": "stream",
     "text": [
      "Number of query atoms: 2956, number of database atoms: 20864\n"
     ]
    }
   ],
   "source": [
    "n_query_atoms = u.query.n_atoms\n",
    "n_database_atoms = u.database.n_atoms\n",
    "\n",
    "print (f'Number of query atoms: {n_query_atoms}, number of database atoms: {n_database_atoms}')"
   ]
  },
  {
   "attachments": {},
   "cell_type": "markdown",
   "metadata": {},
   "source": [
    "Notice  how we use the `query` and `database` attributes return ProLint wrapper objects around the MDAnalysis.AtomGroup objects. This allows us to perform analysis on the query and database groups: "
   ]
  },
  {
   "cell_type": "code",
   "execution_count": 6,
   "metadata": {},
   "outputs": [
    {
     "data": {
      "text/plain": [
       "(Counter({'ARG': 64,\n",
       "          'GLN': 40,\n",
       "          'TYR': 40,\n",
       "          'MET': 48,\n",
       "          'GLU': 112,\n",
       "          'LYS': 56,\n",
       "          'THR': 96,\n",
       "          'GLY': 76,\n",
       "          'CYS': 32,\n",
       "          'ASN': 52,\n",
       "          'VAL': 104,\n",
       "          'HIS': 28,\n",
       "          'LEU': 120,\n",
       "          'SER': 72,\n",
       "          'ASP': 56,\n",
       "          'PHE': 88,\n",
       "          'TRP': 28,\n",
       "          'ILE': 88,\n",
       "          'ALA': 52,\n",
       "          'PRO': 32}),\n",
       " Counter({'POPE': 652, 'POPS': 652, 'CHOL': 652}),\n",
       " 'POPE')"
      ]
     },
     "execution_count": 6,
     "metadata": {},
     "output_type": "execute_result"
    }
   ],
   "source": [
    "u.query.resname_counts, u.database.resname_counts, u.database.get_resname(2345)"
   ]
  },
  {
   "cell_type": "markdown",
   "metadata": {},
   "source": [
    "### Computing contacts"
   ]
  },
  {
   "attachments": {},
   "cell_type": "markdown",
   "metadata": {},
   "source": [
    "We make it now very easy and extremely fast to compute contacts between the query and database groups. To compute contacts, you can use the `compute_contacts` method of the `Universe` object. This method takes the following arguments:\n",
    "- `cutoff`: The cutoff distance to use for computing contacts. Units are in Angstroms.\n",
    "- `backend`: The backend to use for computing contacts. Currently, this option is not used and the default backend is used. In the future, we will add more backends for computing contacts."
   ]
  },
  {
   "cell_type": "code",
   "execution_count": 8,
   "metadata": {},
   "outputs": [
    {
     "name": "stdout",
     "output_type": "stream",
     "text": [
      "7\n"
     ]
    },
    {
     "name": "stderr",
     "output_type": "stream",
     "text": [
      "100%|██████████| 13/13 [00:00<00:00, 323.05it/s]\n"
     ]
    }
   ],
   "source": [
    "contacts = u.compute_contacts(cutoff=7) # cutoff in Angstroms"
   ]
  },
  {
   "cell_type": "code",
   "execution_count": 10,
   "metadata": {},
   "outputs": [
    {
     "data": {
      "text/html": [
       "<div>\n",
       "<style scoped>\n",
       "    .dataframe tbody tr th:only-of-type {\n",
       "        vertical-align: middle;\n",
       "    }\n",
       "\n",
       "    .dataframe tbody tr th {\n",
       "        vertical-align: top;\n",
       "    }\n",
       "\n",
       "    .dataframe thead th {\n",
       "        text-align: right;\n",
       "    }\n",
       "</style>\n",
       "<table border=\"1\" class=\"dataframe\">\n",
       "  <thead>\n",
       "    <tr style=\"text-align: right;\">\n",
       "      <th></th>\n",
       "      <th></th>\n",
       "      <th>0</th>\n",
       "      <th>1</th>\n",
       "      <th>2</th>\n",
       "      <th>3</th>\n",
       "      <th>4</th>\n",
       "      <th>5</th>\n",
       "      <th>6</th>\n",
       "      <th>7</th>\n",
       "      <th>8</th>\n",
       "      <th>9</th>\n",
       "      <th>10</th>\n",
       "      <th>11</th>\n",
       "      <th>12</th>\n",
       "    </tr>\n",
       "    <tr>\n",
       "      <th>ResidueID</th>\n",
       "      <th>LipidId</th>\n",
       "      <th></th>\n",
       "      <th></th>\n",
       "      <th></th>\n",
       "      <th></th>\n",
       "      <th></th>\n",
       "      <th></th>\n",
       "      <th></th>\n",
       "      <th></th>\n",
       "      <th></th>\n",
       "      <th></th>\n",
       "      <th></th>\n",
       "      <th></th>\n",
       "      <th></th>\n",
       "    </tr>\n",
       "  </thead>\n",
       "  <tbody>\n",
       "    <tr>\n",
       "      <th rowspan=\"4\" valign=\"top\">1</th>\n",
       "      <th>2482</th>\n",
       "      <td>0</td>\n",
       "      <td>0</td>\n",
       "      <td>0</td>\n",
       "      <td>1</td>\n",
       "      <td>0</td>\n",
       "      <td>0</td>\n",
       "      <td>0</td>\n",
       "      <td>0</td>\n",
       "      <td>0</td>\n",
       "      <td>0</td>\n",
       "      <td>0</td>\n",
       "      <td>0</td>\n",
       "      <td>0</td>\n",
       "    </tr>\n",
       "    <tr>\n",
       "      <th>2672</th>\n",
       "      <td>0</td>\n",
       "      <td>0</td>\n",
       "      <td>0</td>\n",
       "      <td>0</td>\n",
       "      <td>0</td>\n",
       "      <td>0</td>\n",
       "      <td>0</td>\n",
       "      <td>0</td>\n",
       "      <td>0</td>\n",
       "      <td>1</td>\n",
       "      <td>0</td>\n",
       "      <td>0</td>\n",
       "      <td>0</td>\n",
       "    </tr>\n",
       "    <tr>\n",
       "      <th>2681</th>\n",
       "      <td>0</td>\n",
       "      <td>1</td>\n",
       "      <td>0</td>\n",
       "      <td>0</td>\n",
       "      <td>0</td>\n",
       "      <td>0</td>\n",
       "      <td>0</td>\n",
       "      <td>0</td>\n",
       "      <td>0</td>\n",
       "      <td>0</td>\n",
       "      <td>0</td>\n",
       "      <td>0</td>\n",
       "      <td>0</td>\n",
       "    </tr>\n",
       "    <tr>\n",
       "      <th>2768</th>\n",
       "      <td>0</td>\n",
       "      <td>1</td>\n",
       "      <td>0</td>\n",
       "      <td>0</td>\n",
       "      <td>0</td>\n",
       "      <td>0</td>\n",
       "      <td>0</td>\n",
       "      <td>0</td>\n",
       "      <td>0</td>\n",
       "      <td>0</td>\n",
       "      <td>0</td>\n",
       "      <td>0</td>\n",
       "      <td>0</td>\n",
       "    </tr>\n",
       "    <tr>\n",
       "      <th>10</th>\n",
       "      <th>2648</th>\n",
       "      <td>0</td>\n",
       "      <td>0</td>\n",
       "      <td>0</td>\n",
       "      <td>0</td>\n",
       "      <td>0</td>\n",
       "      <td>0</td>\n",
       "      <td>0</td>\n",
       "      <td>0</td>\n",
       "      <td>0</td>\n",
       "      <td>1</td>\n",
       "      <td>0</td>\n",
       "      <td>0</td>\n",
       "      <td>0</td>\n",
       "    </tr>\n",
       "    <tr>\n",
       "      <th>...</th>\n",
       "      <th>...</th>\n",
       "      <td>...</td>\n",
       "      <td>...</td>\n",
       "      <td>...</td>\n",
       "      <td>...</td>\n",
       "      <td>...</td>\n",
       "      <td>...</td>\n",
       "      <td>...</td>\n",
       "      <td>...</td>\n",
       "      <td>...</td>\n",
       "      <td>...</td>\n",
       "      <td>...</td>\n",
       "      <td>...</td>\n",
       "      <td>...</td>\n",
       "    </tr>\n",
       "    <tr>\n",
       "      <th rowspan=\"3\" valign=\"top\">1259</th>\n",
       "      <th>2463</th>\n",
       "      <td>0</td>\n",
       "      <td>1</td>\n",
       "      <td>0</td>\n",
       "      <td>0</td>\n",
       "      <td>0</td>\n",
       "      <td>0</td>\n",
       "      <td>0</td>\n",
       "      <td>0</td>\n",
       "      <td>0</td>\n",
       "      <td>0</td>\n",
       "      <td>0</td>\n",
       "      <td>0</td>\n",
       "      <td>0</td>\n",
       "    </tr>\n",
       "    <tr>\n",
       "      <th>2755</th>\n",
       "      <td>0</td>\n",
       "      <td>1</td>\n",
       "      <td>0</td>\n",
       "      <td>0</td>\n",
       "      <td>0</td>\n",
       "      <td>0</td>\n",
       "      <td>0</td>\n",
       "      <td>0</td>\n",
       "      <td>0</td>\n",
       "      <td>0</td>\n",
       "      <td>0</td>\n",
       "      <td>0</td>\n",
       "      <td>0</td>\n",
       "    </tr>\n",
       "    <tr>\n",
       "      <th>2760</th>\n",
       "      <td>1</td>\n",
       "      <td>0</td>\n",
       "      <td>0</td>\n",
       "      <td>0</td>\n",
       "      <td>0</td>\n",
       "      <td>0</td>\n",
       "      <td>0</td>\n",
       "      <td>0</td>\n",
       "      <td>0</td>\n",
       "      <td>0</td>\n",
       "      <td>0</td>\n",
       "      <td>0</td>\n",
       "      <td>0</td>\n",
       "    </tr>\n",
       "    <tr>\n",
       "      <th>1261</th>\n",
       "      <th>2463</th>\n",
       "      <td>0</td>\n",
       "      <td>1</td>\n",
       "      <td>0</td>\n",
       "      <td>0</td>\n",
       "      <td>0</td>\n",
       "      <td>0</td>\n",
       "      <td>0</td>\n",
       "      <td>0</td>\n",
       "      <td>0</td>\n",
       "      <td>0</td>\n",
       "      <td>0</td>\n",
       "      <td>0</td>\n",
       "      <td>0</td>\n",
       "    </tr>\n",
       "    <tr>\n",
       "      <th>1263</th>\n",
       "      <th>2468</th>\n",
       "      <td>0</td>\n",
       "      <td>0</td>\n",
       "      <td>0</td>\n",
       "      <td>0</td>\n",
       "      <td>0</td>\n",
       "      <td>0</td>\n",
       "      <td>0</td>\n",
       "      <td>0</td>\n",
       "      <td>1</td>\n",
       "      <td>0</td>\n",
       "      <td>0</td>\n",
       "      <td>0</td>\n",
       "      <td>0</td>\n",
       "    </tr>\n",
       "  </tbody>\n",
       "</table>\n",
       "<p>5680 rows × 13 columns</p>\n",
       "</div>"
      ],
      "text/plain": [
       "                   0   1   2   3   4   5   6   7   8   9   10  11  12\n",
       "ResidueID LipidId                                                    \n",
       "1         2482      0   0   0   1   0   0   0   0   0   0   0   0   0\n",
       "          2672      0   0   0   0   0   0   0   0   0   1   0   0   0\n",
       "          2681      0   1   0   0   0   0   0   0   0   0   0   0   0\n",
       "          2768      0   1   0   0   0   0   0   0   0   0   0   0   0\n",
       "10        2648      0   0   0   0   0   0   0   0   0   1   0   0   0\n",
       "...                ..  ..  ..  ..  ..  ..  ..  ..  ..  ..  ..  ..  ..\n",
       "1259      2463      0   1   0   0   0   0   0   0   0   0   0   0   0\n",
       "          2755      0   1   0   0   0   0   0   0   0   0   0   0   0\n",
       "          2760      1   0   0   0   0   0   0   0   0   0   0   0   0\n",
       "1261      2463      0   1   0   0   0   0   0   0   0   0   0   0   0\n",
       "1263      2468      0   0   0   0   0   0   0   0   1   0   0   0   0\n",
       "\n",
       "[5680 rows x 13 columns]"
      ]
     },
     "execution_count": 10,
     "metadata": {},
     "output_type": "execute_result"
    }
   ],
   "source": [
    "# This may take a few seconds because pandas is slow\n",
    "df = contacts.create_dataframe(n_frames)\n",
    "df "
   ]
  },
  {
   "cell_type": "markdown",
   "metadata": {},
   "source": [
    "Note that the dataframe itself is very lightweight"
   ]
  },
  {
   "cell_type": "code",
   "execution_count": 11,
   "metadata": {},
   "outputs": [
    {
     "name": "stdout",
     "output_type": "stream",
     "text": [
      "<class 'pandas.core.frame.DataFrame'>\n",
      "MultiIndex: 5680 entries, (1, 2482) to (1263, 2468)\n",
      "Data columns (total 13 columns):\n",
      " #   Column  Non-Null Count  Dtype\n",
      "---  ------  --------------  -----\n",
      " 0   0       5680 non-null   int8 \n",
      " 1   1       5680 non-null   int8 \n",
      " 2   2       5680 non-null   int8 \n",
      " 3   3       5680 non-null   int8 \n",
      " 4   4       5680 non-null   int8 \n",
      " 5   5       5680 non-null   int8 \n",
      " 6   6       5680 non-null   int8 \n",
      " 7   7       5680 non-null   int8 \n",
      " 8   8       5680 non-null   int8 \n",
      " 9   9       5680 non-null   int8 \n",
      " 10  10      5680 non-null   int8 \n",
      " 11  11      5680 non-null   int8 \n",
      " 12  12      5680 non-null   int8 \n",
      "dtypes: int8(13)\n",
      "memory usage: 135.5 KB\n"
     ]
    }
   ],
   "source": [
    "df.info()"
   ]
  },
  {
   "attachments": {},
   "cell_type": "markdown",
   "metadata": {},
   "source": [
    "The output dataframe has two indices: \n",
    "1. Residue IDs of the query group\n",
    "2. Lipid IDs of the database group\n",
    "\n",
    "Columns are all of the frames in the trajectory. The values are the number of contacts between the query and database residues.\n",
    "Only residues that have at least one contact are included in the output dataframe. \n",
    "\n",
    "Note that the above DataFrame provides a complete description of your system with the given cutoff. You can use this DataFrame to perform any analysis you want, and do not need to use the ProLint API, if that is all you need."
   ]
  },
  {
   "cell_type": "code",
   "execution_count": 12,
   "metadata": {},
   "outputs": [],
   "source": [
    "import numpy as np\n",
    "import pandas as pd\n",
    "\n",
    "def get_lipids_by_residue_id(df: pd.DataFrame, residue_id: int) -> list:\n",
    "    # Get all LipidIds that interact with the given ResidueID\n",
    "    lipids = df.loc[residue_id].index.tolist()\n",
    "    return lipids\n",
    "\n",
    "def get_residues_by_lipid_id(df: pd.DataFrame, lipid_id: int) -> list:\n",
    "    # Get all ResidueIDs that interact with the given LipidId\n",
    "    residues = df.xs(lipid_id, level='LipidId', axis=0).index.tolist()\n",
    "    return residues\n",
    "\n",
    "def get_contact_data(df: pd.DataFrame, residue_id: int, lipid_id: int, output: str = 'contacts') -> np.array:\n",
    "    # Get contact column as a numpy array or the indices of 1's in the column\n",
    "    contact_array = df.loc[(residue_id, lipid_id)].to_numpy()\n",
    "\n",
    "    if output == 'indices':\n",
    "        return np.nonzero(contact_array)[0]\n",
    "    else:\n",
    "        return contact_array\n"
   ]
  },
  {
   "cell_type": "code",
   "execution_count": 22,
   "metadata": {},
   "outputs": [],
   "source": [
    "lipid_ids = get_lipids_by_residue_id(df, 18) # all lipids that interact with residue id 18\n",
    "residue_ids = get_residues_by_lipid_id(df, 2594) # all residues that interact with lipid id 2594\n",
    "indices = get_contact_data(df, 18, 2594, output='indices') # indices of contacts between residue id 18 and lipid id 2594"
   ]
  },
  {
   "attachments": {},
   "cell_type": "markdown",
   "metadata": {},
   "source": [
    "Note that these functions are also available from `contacts` instance created above, and they are faster compared to using the DataFrame. The idea here is that you can use the DataFrame to perform any analysis you want, since as mentioned above it provides a complete description of your system. "
   ]
  },
  {
   "cell_type": "markdown",
   "metadata": {},
   "source": [
    "In the next notebook, we will look at how you can modify the query and database to get more customized results."
   ]
  }
 ],
 "metadata": {
  "kernelspec": {
   "display_name": "ufcc-dev",
   "language": "python",
   "name": "python3"
  },
  "language_info": {
   "codemirror_mode": {
    "name": "ipython",
    "version": 3
   },
   "file_extension": ".py",
   "mimetype": "text/x-python",
   "name": "python",
   "nbconvert_exporter": "python",
   "pygments_lexer": "ipython3",
   "version": "3.8.16"
  },
  "orig_nbformat": 4
 },
 "nbformat": 4,
 "nbformat_minor": 2
}
