{
 "cells": [
  {
   "cell_type": "code",
   "execution_count": 1,
   "metadata": {},
   "outputs": [],
   "source": [
    "from prolint2 import Universe"
   ]
  },
  {
   "cell_type": "code",
   "execution_count": 2,
   "metadata": {},
   "outputs": [],
   "source": [
    "from prolint2.sampledata import GIRKDataSample\n",
    "GIRK = GIRKDataSample()\n",
    "u = Universe(GIRK.coordinates, GIRK.trajectory)"
   ]
  },
  {
   "cell_type": "code",
   "execution_count": 3,
   "metadata": {},
   "outputs": [
    {
     "data": {
      "application/vnd.jupyter.widget-view+json": {
       "model_id": "25b33d8a3cbf424fb3608a60e115d0ff",
       "version_major": 2,
       "version_minor": 0
      },
      "text/plain": [
       "  0%|          | 0/1251 [00:00<?, ?it/s]"
      ]
     },
     "metadata": {},
     "output_type": "display_data"
    }
   ],
   "source": [
    "contacts = u.compute_contacts(cutoff=7)"
   ]
  },
  {
   "cell_type": "code",
   "execution_count": 4,
   "metadata": {},
   "outputs": [
    {
     "data": {
      "text/plain": [
       "array([   1,    2,    3, ..., 1282, 1283, 1284])"
      ]
     },
     "execution_count": 4,
     "metadata": {},
     "output_type": "execute_result"
    }
   ],
   "source": [
    "u.query.residues.resids"
   ]
  },
  {
   "cell_type": "code",
   "execution_count": 5,
   "metadata": {},
   "outputs": [],
   "source": [
    "# from prolint2.metrics.metrics import Metric, MeanMetric, SumMetric, MaxMetric\n",
    "\n",
    "# mean_instance = MeanMetric()\n",
    "# metric_instance = Metric(contacts, mean_instance)\n",
    "# mean_contacts = metric_instance.compute()"
   ]
  },
  {
   "cell_type": "markdown",
   "metadata": {},
   "source": [
    "#### Point distributions"
   ]
  },
  {
   "cell_type": "code",
   "execution_count": 6,
   "metadata": {},
   "outputs": [],
   "source": [
    "# from prolint2.plotting.plotting import PointDistribution\n",
    "# PD = PointDistribution(u, mean_contacts, lipid='CHOL', metric_name='MeanMetric', fig_size=(5, 5))\n",
    "# PD.save_plot(linewidth=0.24, palette='flare')"
   ]
  },
  {
   "cell_type": "code",
   "execution_count": 7,
   "metadata": {},
   "outputs": [],
   "source": [
    "# PD.generate_script(PointDistribution, \"point_distribution.py\")"
   ]
  },
  {
   "cell_type": "markdown",
   "metadata": {},
   "source": [
    "#### Radar Plot"
   ]
  },
  {
   "cell_type": "code",
   "execution_count": 8,
   "metadata": {},
   "outputs": [],
   "source": [
    "# from prolint2.plotting.plotting import Radar\n",
    "# metric_instances_list = [MeanMetric(), SumMetric(), MaxMetric()]\n",
    "# metric_instance = Metric(contacts, metric_instances_list) # clear is True by default so we clear any existing metrics\n",
    "# contacts_out = metric_instance.compute() # populate the metric columns\n",
    "\n",
    "# RAD = Radar(contacts_out, resIDs=[2, 3, 5], lipid='POPS', metric_names=['MeanMetric', 'SumMetric', 'MaxMetric'], fig_size=(6, 6))\n",
    "# RAD.save_plot(marker='o', markersize=3, linewidth=2, alpha=0.7)"
   ]
  },
  {
   "cell_type": "code",
   "execution_count": 9,
   "metadata": {},
   "outputs": [],
   "source": [
    "# RAD.generate_script(Radar, \"radar.py\")"
   ]
  },
  {
   "cell_type": "markdown",
   "metadata": {},
   "source": [
    "#### Density map"
   ]
  },
  {
   "cell_type": "code",
   "execution_count": 10,
   "metadata": {},
   "outputs": [],
   "source": [
    "# from prolint2.plotting.plotting import DensityMap\n",
    "\n",
    "# Dens = DensityMap(u, lipid='CHOL', fig_size=(10, 10))\n",
    "# Dens.save_plot(interpolation='nearest', cmap='viridis')"
   ]
  },
  {
   "cell_type": "code",
   "execution_count": 11,
   "metadata": {},
   "outputs": [],
   "source": [
    "# Dens.generate_script(DensityMap, 'plot_2d.py')"
   ]
  },
  {
   "cell_type": "markdown",
   "metadata": {},
   "source": [
    "#### 3D Projection"
   ]
  },
  {
   "cell_type": "code",
   "execution_count": 12,
   "metadata": {},
   "outputs": [
    {
     "data": {
      "application/vnd.jupyter.widget-view+json": {
       "model_id": "1db4a6666732417aaf4b4ada1485fb3e",
       "version_major": 2,
       "version_minor": 0
      },
      "text/plain": []
     },
     "metadata": {},
     "output_type": "display_data"
    }
   ],
   "source": [
    "from prolint2.plotting.projection import show_contact_projection\n",
    "from prolint2.metrics.metrics import Metric, MeanMetric, SumMetric, MaxMetric \n",
    "\n",
    "mean_instance = MaxMetric()\n",
    "metric_instance = Metric(contacts, mean_instance)\n",
    "mean_contacts = metric_instance.compute()\n",
    "\n",
    "# def show_contact_projection(universe, metric, ngl_repr='surface', cmap='Reds', frame_idx=0):\n",
    "#     metric_list = get_metric_list_by_residues(universe, metric, lipid='POPS', metric_name='MeanMetric')\n",
    "\n",
    "#     metric_dict = {res_id: metric_list[idx] for idx, res_id in enumerate(u.query.residues.resids)}\n",
    "\n",
    "#     atomic_bfactors = [metric_dict[x] for x in universe.query.atoms.resids]\n",
    "\n",
    "#     bf_cmap = cm.get_cmap(cmap)\n",
    "\n",
    "#     colors = [mpl.colors.to_hex(x) for x in bf_cmap(shift_range(atomic_bfactors))]\n",
    "#     cs = [[y, str(universe.query.atoms.resids[x])] for x, y in enumerate(colors)]\n",
    "\n",
    "#     scheme = nv.color._ColorScheme(cs, 'bf')\n",
    "\n",
    "#     params = {\n",
    "#         'surface' : [{'type': 'surface',\n",
    "#                       'params': {'surfaceType': \"av\",\n",
    "#                                  'probeRadius': 2.1,\n",
    "#                                  'color':scheme}}],\n",
    "#      }\n",
    "\n",
    "#     # universe.trajectory[0]\n",
    "#     # universe.query.atoms.write('temp.pdb')\n",
    "#     # universe2 = mda.Universe('temp.pdb')\n",
    "#     # view = nv.show_mdanalysis(universe2)\n",
    "\n",
    "#     universe.trajectory[frame_idx]\n",
    "#     universe.query.atoms.write('temp.pdb')\n",
    "#     # convert file to text string\n",
    "#     with open('temp.pdb', 'r') as myfile:\n",
    "#         query_structure = nv.TextStructure(myfile.read())\n",
    "#         view = nv.NGLWidget()\n",
    "#         view.add_component(query_structure)\n",
    "#         # change the surface type\n",
    "#         # view.add_representation('surface', selection='all', surfaceType='av', probeRadius=2.1, color)\n",
    "#         view.set_representations(params[ngl_repr])\n",
    "#         # view.set_representations(params[ngl_repr])\n",
    "#     # close file and remove it\n",
    "#     myfile.close()\n",
    "#     os.remove('temp.pdb')\n",
    "    \n",
    "#     return view\n",
    "    \n",
    "view = show_contact_projection(u, mean_contacts, metric_name='MaxMetric', lipid='POPS', ngl_repr='surface', frame_idx=0)"
   ]
  },
  {
   "cell_type": "code",
   "execution_count": 13,
   "metadata": {},
   "outputs": [
    {
     "data": {
      "application/vnd.jupyter.widget-view+json": {
       "model_id": "da35e47195de41b9a033859d7bb70cb5",
       "version_major": 2,
       "version_minor": 0
      },
      "text/plain": [
       "ThemeManager()"
      ]
     },
     "metadata": {},
     "output_type": "display_data"
    },
    {
     "data": {
      "application/vnd.jupyter.widget-view+json": {
       "model_id": "0ea1b7ec5eb84fdea9a7af641c7a82f4",
       "version_major": 2,
       "version_minor": 0
      },
      "text/plain": [
       "NGLWidget(gui_style='ngl')"
      ]
     },
     "metadata": {},
     "output_type": "display_data"
    }
   ],
   "source": [
    "view.display(gui=True)"
   ]
  },
  {
   "cell_type": "code",
   "execution_count": 14,
   "metadata": {},
   "outputs": [
    {
     "data": {
      "application/vnd.jupyter.widget-view+json": {
       "model_id": "2308ad2ccd124d31b758a94bb3b6a9ab",
       "version_major": 2,
       "version_minor": 0
      },
      "text/plain": [
       "Image(value=b'', width='99%')"
      ]
     },
     "execution_count": 14,
     "metadata": {},
     "output_type": "execute_result"
    }
   ],
   "source": [
    "view.render_image()"
   ]
  },
  {
   "cell_type": "code",
   "execution_count": null,
   "metadata": {},
   "outputs": [],
   "source": []
  }
 ],
 "metadata": {
  "kernelspec": {
   "display_name": "Python 3 (ipykernel)",
   "language": "python",
   "name": "python3"
  },
  "language_info": {
   "codemirror_mode": {
    "name": "ipython",
    "version": 3
   },
   "file_extension": ".py",
   "mimetype": "text/x-python",
   "name": "python",
   "nbconvert_exporter": "python",
   "pygments_lexer": "ipython3",
   "version": "3.8.16"
  }
 },
 "nbformat": 4,
 "nbformat_minor": 4
}
