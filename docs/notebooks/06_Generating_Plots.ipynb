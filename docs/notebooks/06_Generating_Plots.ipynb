{
 "cells": [
  {
   "cell_type": "code",
   "execution_count": 1,
   "metadata": {},
   "outputs": [],
   "source": [
    "from prolint2 import Universe"
   ]
  },
  {
   "cell_type": "code",
   "execution_count": 2,
   "metadata": {},
   "outputs": [],
   "source": [
    "from prolint2.sampledata import GIRKDataSample\n",
    "GIRK = GIRKDataSample()\n",
    "u = Universe(GIRK.coordinates, GIRK.trajectory)"
   ]
  },
  {
   "cell_type": "code",
   "execution_count": 3,
   "metadata": {},
   "outputs": [
    {
     "data": {
      "application/vnd.jupyter.widget-view+json": {
       "model_id": "a8a4d262256f449cafe0ea7f93a9a925",
       "version_major": 2,
       "version_minor": 0
      },
      "text/plain": [
       "  0%|          | 0/1251 [00:00<?, ?it/s]"
      ]
     },
     "metadata": {},
     "output_type": "display_data"
    }
   ],
   "source": [
    "contacts = u.compute_contacts(cutoff=7)"
   ]
  },
  {
   "cell_type": "code",
   "execution_count": 4,
   "metadata": {},
   "outputs": [
    {
     "data": {
      "text/plain": [
       "array([   1,    2,    3, ..., 1282, 1283, 1284])"
      ]
     },
     "execution_count": 4,
     "metadata": {},
     "output_type": "execute_result"
    }
   ],
   "source": [
    "u.query.residues.resids"
   ]
  },
  {
   "cell_type": "code",
   "execution_count": 5,
   "metadata": {},
   "outputs": [],
   "source": [
    "# from prolint2.metrics.metrics import Metric, MeanMetric, SumMetric, MaxMetric\n",
    "\n",
    "# mean_instance = MeanMetric()\n",
    "# metric_instance = Metric(contacts, mean_instance)\n",
    "# mean_contacts = metric_instance.compute()"
   ]
  },
  {
   "cell_type": "markdown",
   "metadata": {},
   "source": [
    "#### Point distributions"
   ]
  },
  {
   "cell_type": "code",
   "execution_count": 6,
   "metadata": {},
   "outputs": [],
   "source": [
    "# from prolint2.plotting.plotting import PointDistribution\n",
    "# PD = PointDistribution(u, mean_contacts, lipid='CHOL', metric_name='MeanMetric', fig_size=(5, 5))\n",
    "# PD.save_plot(linewidth=0.24, palette='flare')"
   ]
  },
  {
   "cell_type": "code",
   "execution_count": 7,
   "metadata": {},
   "outputs": [],
   "source": [
    "# PD.generate_script(PointDistribution, \"point_distribution.py\")"
   ]
  },
  {
   "cell_type": "markdown",
   "metadata": {},
   "source": [
    "#### Radar Plot"
   ]
  },
  {
   "cell_type": "code",
   "execution_count": 8,
   "metadata": {},
   "outputs": [],
   "source": [
    "# from prolint2.plotting.plotting import Radar\n",
    "# metric_instances_list = [MeanMetric(), SumMetric(), MaxMetric()]\n",
    "# metric_instance = Metric(contacts, metric_instances_list) # clear is True by default so we clear any existing metrics\n",
    "# contacts_out = metric_instance.compute() # populate the metric columns\n",
    "\n",
    "# RAD = Radar(contacts_out, resIDs=[2, 3, 5], lipid='POPS', metric_names=['MeanMetric', 'SumMetric', 'MaxMetric'], fig_size=(6, 6))\n",
    "# RAD.save_plot(marker='o', markersize=3, linewidth=2, alpha=0.7)"
   ]
  },
  {
   "cell_type": "code",
   "execution_count": 9,
   "metadata": {},
   "outputs": [],
   "source": [
    "# RAD.generate_script(Radar, \"radar.py\")"
   ]
  },
  {
   "cell_type": "markdown",
   "metadata": {},
   "source": [
    "#### Density map"
   ]
  },
  {
   "cell_type": "code",
   "execution_count": 10,
   "metadata": {},
   "outputs": [],
   "source": [
    "# from prolint2.plotting.plotting import DensityMap\n",
    "\n",
    "# Dens = DensityMap(u, lipid='CHOL', fig_size=(10, 10))\n",
    "# Dens.save_plot(interpolation='nearest', cmap='viridis')"
   ]
  },
  {
   "cell_type": "code",
   "execution_count": 11,
   "metadata": {},
   "outputs": [],
   "source": [
    "# Dens.generate_script(DensityMap, 'plot_2d.py')"
   ]
  },
  {
   "cell_type": "markdown",
   "metadata": {},
   "source": [
    "#### 3D Projection"
   ]
  },
  {
   "cell_type": "code",
   "execution_count": 12,
   "metadata": {},
   "outputs": [
    {
     "data": {
      "application/vnd.jupyter.widget-view+json": {
       "model_id": "61b72abaaff94ffb8b2c733cb09c327a",
       "version_major": 2,
       "version_minor": 0
      },
      "text/plain": []
     },
     "metadata": {},
     "output_type": "display_data"
    }
   ],
   "source": [
    "from prolint2.plotting.projection import show_contact_projection\n",
    "from prolint2.metrics.metrics import Metric, MeanMetric, SumMetric, MaxMetric \n",
    "\n",
    "mean_instance = MaxMetric()\n",
    "metric_instance = Metric(contacts, mean_instance)\n",
    "mean_contacts = metric_instance.compute()\n",
    "    \n",
    "view, color_squeme = show_contact_projection(u, mean_contacts, metric_name='MaxMetric', lipid='POPS', query_repr='surface', database_repr='spacefill', cmap='Blues', frame_idx=0)"
   ]
  },
  {
   "cell_type": "code",
   "execution_count": 13,
   "metadata": {},
   "outputs": [],
   "source": [
    "def edit_view(view):\n",
    "    view.clear_representations(component=1)\n",
    "    view.add_representation(\"spacefill\", component=1, selection='CHOL', color='blue')\n",
    "    view.clear_representations(component=0)\n",
    "    view.add_representation(\"surface\", surfaceType=\"av\", probeRadius=2.1, component=0, color=color_squeme, opacity=0.5)\n",
    "    view.add_representation(\"cartoon\", component=0)\n",
    "    return view"
   ]
  },
  {
   "cell_type": "code",
   "execution_count": 14,
   "metadata": {},
   "outputs": [],
   "source": [
    "edited_view = edit_view(view)"
   ]
  },
  {
   "cell_type": "code",
   "execution_count": 16,
   "metadata": {},
   "outputs": [
    {
     "data": {
      "application/vnd.jupyter.widget-view+json": {
       "model_id": "64199325758a4147a47a9609314ff051",
       "version_major": 2,
       "version_minor": 0
      },
      "text/plain": [
       "NGLWidget()"
      ]
     },
     "metadata": {},
     "output_type": "display_data"
    }
   ],
   "source": [
    "edited_view"
   ]
  },
  {
   "cell_type": "code",
   "execution_count": null,
   "metadata": {},
   "outputs": [],
   "source": []
  }
 ],
 "metadata": {
  "kernelspec": {
   "display_name": "Python 3 (ipykernel)",
   "language": "python",
   "name": "python3"
  },
  "language_info": {
   "codemirror_mode": {
    "name": "ipython",
    "version": 3
   },
   "file_extension": ".py",
   "mimetype": "text/x-python",
   "name": "python",
   "nbconvert_exporter": "python",
   "pygments_lexer": "ipython3",
   "version": "3.8.16"
  }
 },
 "nbformat": 4,
 "nbformat_minor": 4
}
