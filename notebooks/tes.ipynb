{
 "cells": [
  {
   "cell_type": "code",
   "execution_count": 4,
   "metadata": {},
   "outputs": [],
   "source": [
    "import MDAnalysis as mda\n",
    "\n",
    "gro = '../ufcc/data/coordinates.gro'\n",
    "trj = '../ufcc/data/trajectory.xtc'\n",
    "\n",
    "u= mda.Universe(gro, trj)"
   ]
  },
  {
   "cell_type": "code",
   "execution_count": 5,
   "metadata": {},
   "outputs": [],
   "source": [
    "from MDAnalysis.core.topologyattrs import _ResidueStringAttr\n",
    "\n",
    "class MacrosClass(_ResidueStringAttr):\n",
    "    attrname = 'macros'\n",
    "    singular = 'macro'\n",
    "\n",
    "    @staticmethod\n",
    "    def _gen_initial_values(n_atoms, n_residues, n_segments):\n",
    "        return np.array(['other'] * n_residues, dtype=object)"
   ]
  },
  {
   "cell_type": "code",
   "execution_count": 7,
   "metadata": {},
   "outputs": [],
   "source": [
    "import numpy as np\n",
    "\n",
    "u.add_TopologyAttr('macros')\n"
   ]
  },
  {
   "cell_type": "code",
   "execution_count": 9,
   "metadata": {},
   "outputs": [
    {
     "data": {
      "text/plain": [
       "array(['other', 'other', 'other', ..., 'other', 'other', 'other'],\n",
       "      dtype=object)"
      ]
     },
     "execution_count": 9,
     "metadata": {},
     "output_type": "execute_result"
    }
   ],
   "source": [
    "u.residues.macros"
   ]
  },
  {
   "cell_type": "code",
   "execution_count": 11,
   "metadata": {},
   "outputs": [
    {
     "data": {
      "text/plain": [
       "array([<Atom 1: BB of type B of resname ARG, resid 1 and segid SYSTEM>,\n",
       "       <Atom 2: SC1 of type S of resname ARG, resid 1 and segid SYSTEM>,\n",
       "       <Atom 3: SC2 of type S of resname ARG, resid 1 and segid SYSTEM>,\n",
       "       ...,\n",
       "       <Atom 23818: R5 of type R of resname CHOL, resid 3240 and segid SYSTEM>,\n",
       "       <Atom 23819: C1 of type C of resname CHOL, resid 3240 and segid SYSTEM>,\n",
       "       <Atom 23820: C2 of type C of resname CHOL, resid 3240 and segid SYSTEM>],\n",
       "      dtype=object)"
      ]
     },
     "execution_count": 11,
     "metadata": {},
     "output_type": "execute_result"
    }
   ],
   "source": [
    "np.unique(u.atoms)"
   ]
  },
  {
   "cell_type": "code",
   "execution_count": null,
   "metadata": {},
   "outputs": [],
   "source": []
  }
 ],
 "metadata": {
  "interpreter": {
   "hash": "f0af42eb1435a49d8b149c371601eef33f3293aea205eebd6b51a5790a633a6e"
  },
  "kernelspec": {
   "display_name": "Python 3.7.11 ('prolint')",
   "language": "python",
   "name": "python3"
  },
  "language_info": {
   "codemirror_mode": {
    "name": "ipython",
    "version": 3
   },
   "file_extension": ".py",
   "mimetype": "text/x-python",
   "name": "python",
   "nbconvert_exporter": "python",
   "pygments_lexer": "ipython3",
   "version": "3.7.11"
  },
  "orig_nbformat": 4
 },
 "nbformat": 4,
 "nbformat_minor": 2
}
